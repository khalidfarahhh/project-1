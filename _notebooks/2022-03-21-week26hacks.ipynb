{
 "cells": [
  {
   "cell_type": "markdown",
   "metadata": {},
   "source": [
    "# Week 26 Hacks \n",
    "\n",
    "- title: Week 26 hacks \n",
    "- toc: true\n",
    "- author: Khalid Farah\n",
    "- categories: [collegeboard]\n",
    "- tags: [python]"
   ]
  },
  {
   "attachments": {},
   "cell_type": "markdown",
   "metadata": {},
   "source": [
    "# Create my own 2.4 A"
   ]
  },
  {
   "cell_type": "code",
   "execution_count": 54,
   "metadata": {},
   "outputs": [],
   "source": [
    "\"\"\"\n",
    "These imports define the key objects\n",
    "\"\"\"\n",
    "\n",
    "from flask import Flask\n",
    "from flask_sqlalchemy import SQLAlchemy\n",
    "\n",
    "\"\"\"\n",
    "These object and definitions are used throughout the Jupyter Notebook.\n",
    "\"\"\"\n",
    "\n",
    "# Setup of key Flask object (app)\n",
    "app = Flask(__name__)\n",
    "# Setup SQLAlchemy object and properties for the database (db)\n",
    "database = 'sqlite:///sqlite.db'  # path and filename of databaseapp.config['SQLALCHEMY_TRACK_MODIFICATIONS'] = False\n",
    "app.config['SQLALCHEMY_DATABASE_URI'] = database\n",
    "app.config['SECRET_KEY'] = 'SECRET_KEY'\n",
    "db = SQLAlchemy()\n",
    "\n",
    "\n",
    "# This belongs in place where it runs once per project\n",
    "db.init_app(app)"
   ]
  },
  {
   "cell_type": "code",
   "execution_count": 55,
   "metadata": {},
   "outputs": [],
   "source": [
    "\"\"\" database dependencies to support sqlite examples \"\"\"\n",
    "import datetime\n",
    "from datetime import datetime\n",
    "import json\n",
    "\n",
    "from sqlalchemy.exc import IntegrityError\n",
    "from werkzeug.security import generate_password_hash, check_password_hash\n",
    "\n",
    "\n",
    "''' Tutorial: https://www.sqlalchemy.org/library.html#tutorials, try to get into a Python shell and follow along '''\n",
    "class Cars(db.Model):\n",
    "    __tablename__ = 'cars'  # table name is plural, class name is singular\n",
    "\n",
    "    id = db.Column(db.Integer, primary_key=True)\n",
    "    _company = db.Column(db.String(255), unique=False, nullable=False) #_name\n",
    "    _model = db.Column(db.String(255), unique=False, nullable=False) #_uid\n",
    "    _price = db.Column(db.String(255), unique=False, nullable=False) # _password\n",
    "\n",
    "    def __init__(self, company, model, price):\n",
    "        self._company = company    # variables with self prefix become part of the object, \n",
    "        self._model = model\n",
    "        self._price = price\n",
    "\n",
    "    @property\n",
    "    def company(self):\n",
    "        return self._company\n",
    "    \n",
    "    @company.setter\n",
    "    def company(self, company):\n",
    "        self._company = company\n",
    "    \n",
    "    @property\n",
    "    def model(self):\n",
    "        return self._model\n",
    "    \n",
    "    @model.setter\n",
    "    def model(self, model):\n",
    "        self._model = model\n",
    "        \n",
    "    def is_model(self, model):\n",
    "        return self._model == model\n",
    "    \n",
    "    @property\n",
    "    def price(self):\n",
    "        return self._price\n",
    "    \n",
    "    @price.setter\n",
    "    def price(self, price):\n",
    "        self._price = price\n",
    "    \n",
    "    def __str__(self):\n",
    "        return json.dumps(self.read())\n",
    "\n",
    "    def create(self):\n",
    "        try:\n",
    "            db.session.add(self)  # add prepares to persist person object to Users table\n",
    "            db.session.commit()  # SqlAlchemy \"unit of work pattern\" requires a manual commit\n",
    "            return self\n",
    "        except IntegrityError:\n",
    "            db.session.remove()\n",
    "            return None\n",
    "\n",
    "    def read(self):\n",
    "        return {\n",
    "            \"id\": self.id,\n",
    "            \"company\": self.company,\n",
    "            \"model\": self.model,\n",
    "            \"price\": self.price,\n",
    "        }\n",
    "\n",
    "    def update(self, company=\"\", model=\"\", price=\"\"):\n",
    "        \"\"\"only updates values with length\"\"\"\n",
    "        if len(company) > 0:\n",
    "            self.company = company\n",
    "        if len(model) > 0:\n",
    "            self.model = model\n",
    "        if len(price) > 0:\n",
    "            self.price = price\n",
    "        db.session.commit()\n",
    "        db.session.add(self)\n",
    "        return self\n",
    "\n",
    "    def delete(self):\n",
    "        db.session.delete(self)\n",
    "        db.session.commit()\n",
    "        return None"
   ]
  },
  {
   "cell_type": "code",
   "execution_count": 57,
   "metadata": {},
   "outputs": [
    {
     "name": "stdout",
     "output_type": "stream",
     "text": [
      "Created new uid 3 Series\n",
      "Created new uid 4 Series\n",
      "Created new uid Corolla\n",
      "Created new uid Camry\n",
      "Created new uid Prius\n",
      "Created new uid Accord\n"
     ]
    }
   ],
   "source": [
    "\"\"\"Database Creation and Testing \"\"\"\n",
    "\n",
    "\n",
    "# Builds working data for testing\n",
    "def initCars():\n",
    "    with app.app_context():\n",
    "        \"\"\"Create database and tables\"\"\"\n",
    "        db.create_all()\n",
    "        \"\"\"Tester data for table\"\"\"\n",
    "        c1 = Cars(company='Bmw', model='3 Series', price='20,000')\n",
    "        c2 = Cars(company='Bmw', model='4 Series', price='15,000')\n",
    "        c3 = Cars(company='Toyota', model='Corolla', price='10,000')\n",
    "        c4 = Cars(company='Toyota', model='Camry', price='30,000')\n",
    "        c5 = Cars(company='Toyota', model='Prius', price='25,000')\n",
    "        c6 = Cars(company='Honda', model='Accord', price='50,000')\n",
    "\n",
    "        cars = [c1, c2, c3, c4, c5, c6]\n",
    "\n",
    "        \"\"\"Builds sample user/note(s) data\"\"\"\n",
    "        for cars in cars:\n",
    "            try:\n",
    "                '''add user to table'''\n",
    "                object = cars.create()\n",
    "                print(f\"Created new uid {object.model}\")\n",
    "            except:  # error raised if object nit created\n",
    "                '''fails with bad or duplicate data'''\n",
    "                print(f\"Records exist uid {cars.model}, or error.\")\n",
    "                \n",
    "initCars()\n",
    "\n"
   ]
  },
  {
   "cell_type": "code",
   "execution_count": 49,
   "metadata": {},
   "outputs": [],
   "source": [
    "def find_by_model(model):\n",
    "    with app.app_context():\n",
    "        cars = Cars.query.filter_by(_model=model).first()\n",
    "    return cars"
   ]
  },
  {
   "attachments": {},
   "cell_type": "markdown",
   "metadata": {},
   "source": [
    "Create "
   ]
  },
  {
   "cell_type": "code",
   "execution_count": 50,
   "metadata": {},
   "outputs": [
    {
     "name": "stdout",
     "output_type": "stream",
     "text": [
      "Created\n",
      " {'id': 7, 'company': 'BMW', 'model': '7 series', 'price': '50,000'}\n"
     ]
    }
   ],
   "source": [
    "def create():\n",
    "    # optimize user time to see if uid exists\n",
    "    model = input(\"Enter your model:\")\n",
    "    cars = find_by_model(model)\n",
    "    try:\n",
    "        print(\"Found\\n\", Cars.read())\n",
    "        return\n",
    "    except:\n",
    "        pass # keep going\n",
    "    \n",
    "    # request value that ensure creating valid object\n",
    "    company = input(\"Enter the company:\")\n",
    "    price = input(\"Enter the price\")\n",
    "    \n",
    "    # Initialize User object before date\n",
    "    cars = Cars(company=company, \n",
    "                model=model, \n",
    "                price=price,\n",
    "                )\n",
    "    \n",
    "    # create user.dob, fail with today as dob\n",
    "    # dob = input(\"Enter your date of birth 'YYYY-MM-DD'\")\n",
    "    # try:\n",
    "    #     user.dob = datetime.strptime(dob, '%Y-%m-%d').date()\n",
    "    # except ValueError:\n",
    "    #     user.dob = datetime.today()\n",
    "    #     print(f\"Invalid date {dob} require YYYY-mm-dd, date defaulted to {user.dbo}\")\n",
    "           \n",
    "    # write object to database\n",
    "    with app.app_context():\n",
    "        try:\n",
    "            object = cars.create()\n",
    "            print(\"Created\\n\", object.read())\n",
    "        except:  # error raised if object not created\n",
    "            print(\"Unknown error uid {uid}\")\n",
    "        \n",
    "create()"
   ]
  },
  {
   "cell_type": "markdown",
   "metadata": {},
   "source": [
    "Read"
   ]
  },
  {
   "cell_type": "code",
   "execution_count": 52,
   "metadata": {},
   "outputs": [
    {
     "data": {
      "text/plain": [
       "[{'id': 1, 'company': 'Bmw', 'model': '3 Series', 'price': '20,000'},\n",
       " {'id': 2, 'company': 'Bmw', 'model': '4 Series', 'price': '15,000'},\n",
       " {'id': 3, 'company': 'Toyota', 'model': 'Corolla', 'price': '10,000'},\n",
       " {'id': 4, 'company': 'Toyota', 'model': 'Camry', 'price': '30,000'},\n",
       " {'id': 5, 'company': 'Toyota', 'model': 'Prius', 'price': '25,000'},\n",
       " {'id': 6, 'company': 'Honda', 'model': 'Accord', 'price': '50,000'},\n",
       " {'id': 7, 'company': 'BMW', 'model': '7 series', 'price': '50,000'}]"
      ]
     },
     "execution_count": 52,
     "metadata": {},
     "output_type": "execute_result"
    }
   ],
   "source": [
    "def read():\n",
    "    with app.app_context():\n",
    "        table = Cars.query.all()\n",
    "    json_ready = [cars.read() for cars in table] # each user adds user.read() to list\n",
    "    return json_ready\n",
    "\n",
    "read()"
   ]
  },
  {
   "attachments": {},
   "cell_type": "markdown",
   "metadata": {},
   "source": [
    "Delete"
   ]
  },
  {
   "cell_type": "code",
   "execution_count": 58,
   "metadata": {},
   "outputs": [],
   "source": [
    "def delete_by_company(): # makes a new function called delete_by_uid\n",
    "    model = input(\"Enter uid of user to be deleted.\") # prompts the user to enter the uid\n",
    "    user = find_by_model(model)  # using previous function to locate user by inputted id\n",
    "    with app.app_context():\n",
    "        try:\n",
    "            object = user.delete() \n",
    "            print(f\"User with uid --{model}-- has been deleted. \")\n",
    "            db = read()\n",
    "            print(db)\n",
    "        except:  # error raised if object not found\n",
    "           (f\"No user with uid {model} was found.\")\n",
    "        \n",
    "delete_by_company()"
   ]
  },
  {
   "attachments": {},
   "cell_type": "markdown",
   "metadata": {},
   "source": [
    "Understanding Debugging \n",
    "![]({{site.baseurl}}/images/Screenshot 2023-03-21 201138.png)\n"
   ]
  },
  {
   "attachments": {},
   "cell_type": "markdown",
   "metadata": {},
   "source": [
    "2.4 B hacks "
   ]
  },
  {
   "attachments": {},
   "cell_type": "markdown",
   "metadata": {},
   "source": [
    "Do I see procedural abstraction?\n",
    "yes, in this implementation, i do see a procedural abstraction. using procedural abstraction, the code can write code that is easier to read and maintain.\n",
    "\n",
    "- Recalling the College Board criteria, data abstraction is essentially representing something (i.e a program) in a much more simplified, condensed method while hiding its more internal functions\n",
    "- Looking at this implementation, I do see data abstraction in this implementation. The implementation hides the details of the underlying database operations from the user, providing a simple interface for performing basic CRUD (Create, Read, Update, Delete) operations\n",
    "- Regarding debugging, one possible example is if the user enters invalid input (e.g., a non-existent uid when updating or deleting a user). An example would be the implementation catches the exception raised by the database operation and prints an error message to the user\n",
    "- The error message provides a high-level explanation of the problem (\"No uid was found in the table\"), without revealing the underlying implementation details. This is an example of data abstraction, as the implementation is hiding the details of the database operation (in this case, the SQL query) from the user and providing a simplified, high-level interface for working with the data.\n",
    "\n",
    "\n",
    "![]({{site.baseurl}}/images/Screenshot 2023-03-21 201436.png)\n"
   ]
  }
 ],
 "metadata": {
  "kernelspec": {
   "display_name": "base",
   "language": "python",
   "name": "python3"
  },
  "language_info": {
   "codemirror_mode": {
    "name": "ipython",
    "version": 3
   },
   "file_extension": ".py",
   "mimetype": "text/x-python",
   "name": "python",
   "nbconvert_exporter": "python",
   "pygments_lexer": "ipython3",
   "version": "3.9.12"
  },
  "orig_nbformat": 4
 },
 "nbformat": 4,
 "nbformat_minor": 2
}
