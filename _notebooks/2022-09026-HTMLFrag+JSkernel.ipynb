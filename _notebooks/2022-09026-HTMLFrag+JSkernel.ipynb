{
 "cells": [
  {
   "cell_type": "markdown",
   "metadata": {},
   "source": [
    "# HTML Fragments + Javascript Kernel \n",
    "\n",
    "- title: HTML Fragments and Javascript Kernel\n",
    "- toc: true\n",
    "- author: Khalid Farah\n",
    "- categories: [collegeboard]\n",
    "- tags: [python]"
   ]
  },
  {
   "cell_type": "code",
   "execution_count": 1,
   "metadata": {},
   "outputs": [
    {
     "name": "stdout",
     "output_type": "stream",
     "text": [
      "Hello everyone!\n"
     ]
    }
   ],
   "source": [
    "function logIt(output) {\n",
    "    console.log(output);\n",
    "}\n",
    "logIt(\"Hello everyone!\");"
   ]
  },
  {
   "cell_type": "code",
   "execution_count": 10,
   "metadata": {},
   "outputs": [
    {
     "data": {
      "text/html": [
       "<div style='display:inline-block;background:black;border: 2px solid grey;box-shadow: 0.8em 0.4em 0.4em grey;'><table><tr><th><mark>Name</mark></th><th><mark>Nationality</mark></th><th><mark>Age</mark></th><th><mark>Occupation</mark></th></tr><tr><td>Fortnite</td><td>Fortnite</td><td>70</td><td>Manager</td><tr><tr><td>Ty olsen</td><td>Mexican</td><td>16</td><td>Player</td><tr><tr><td>Khalid Farah</td><td>Palestinian</td><td>16</td><td>Player</td><tr><tr><td>Jeffery Fonseca</td><td>African-American</td><td>17</td><td>Player</td><tr><tr><td>Eli Gilmour</td><td>Caucasian</td><td>16</td><td>Player</td><tr><tr><td>Chris Albertson</td><td>Syrian</td><td>16</td><td>Player</td><tr><tr><td>Ryan McWeeny</td><td>Caucasian</td><td>16</td><td>Player</td><tr></table></div>"
      ]
     },
     "execution_count": 10,
     "metadata": {},
     "output_type": "execute_result"
    }
   ],
   "source": [
    "// define a function to hold data for a Person\n",
    "function Person(name, nationality, age) {\n",
    "    this.name = name;\n",
    "    this.nationality = nationality;\n",
    "    this.age = age;\n",
    "    this.role = \"\";\n",
    "}\n",
    "\n",
    "// define a setter for role in Person data\n",
    "Person.prototype.setRole = function(role) {\n",
    "    this.role = role;\n",
    "}\n",
    "\n",
    "// defines the manager\n",
    "var manager = new Person(\"Fortnite\", \"Fortnite\", 70);\n",
    "manager.setRole(\"Manager\");\n",
    "\n",
    "// JSON conversion from object to a string\n",
    "Person.prototype.toJSON = function() {\n",
    "    const obj = {name: this.name, nationality: this.nationality, age: this.age, role: this.role};\n",
    "    const json = JSON.stringify(obj);\n",
    "    return json;\n",
    "}\n",
    "\n",
    "// player data\n",
    "var players = [\n",
    "    new Person(\"Ty olsen\", \"Mexican\", 16),\n",
    "    new Person(\"Khalid Farah\", \"Palestinian\", 16),\n",
    "    new Person(\"Jeffery Fonseca\", \"African-American\", 17),\n",
    "    new Person(\"Eli Gilmour\", \"Caucasian\", 16),\n",
    "    new Person(\"Chris Albertson\", \"Syrian\", 16),\n",
    "    new Person(\"Ryan McWeeny\", \"Caucasian\", 16),\n",
    "];\n",
    "\n",
    "function Squad(Leader, players){\n",
    "    this.manager = Leader;\n",
    "    this.squad = [Leader];\n",
    "\n",
    "    this.players = players;\n",
    "    this.players.forEach(player => {player.setRole(\"Player\"); this.squad.push(player); });\n",
    "\n",
    "    this.json = [];\n",
    "    this.squad.forEach(player => this.json.push(player.toJSON()));\n",
    "}\n",
    "\n",
    "var FUT = new Squad(manager, players);\n",
    "\n",
    "Squad.prototype._toHtml = function() {\n",
    "\n",
    "    var style = (\n",
    "        \"display:inline-block;\" +\n",
    "      \"background:black;\" +\n",
    "      \"border: 2px solid grey;\" +\n",
    "      \"box-shadow: 0.8em 0.4em 0.4em grey;\"\n",
    "    );\n",
    "\n",
    "// HTML Body of Table is build as a series of concatenations (+=)\n",
    "var body = \"\";\n",
    "// Heading for Array Columns\n",
    "body += \"<tr>\";\n",
    "body += \"<th><mark>\" + \"Name\" + \"</mark></th>\";\n",
    "body += \"<th><mark>\" + \"Nationality\" + \"</mark></th>\";\n",
    "body += \"<th><mark>\" + \"Age\" + \"</mark></th>\";\n",
    "body += \"<th><mark>\" + \"Occupation\" + \"</mark></th>\";\n",
    "body += \"</tr>\";\n",
    "// Data of Array, iterate through each row of lakers team\n",
    "for (var row of FUT.squad) {\n",
    "  // tr for each row, a new line\n",
    "  body += \"<tr>\";\n",
    "  // td for each column of data\n",
    "  body += \"<td>\" + row.name + \"</td>\";\n",
    "  body += \"<td>\" + row.nationality + \"</td>\";\n",
    "  body += \"<td>\" + row.age + \"</td>\";\n",
    "  body += \"<td>\" + row.role + \"</td>\";\n",
    "  // tr to end line\n",
    "  body += \"<tr>\";\n",
    "}\n",
    "\n",
    " // Build and HTML fragment of div, table, table body\n",
    "return (\n",
    "  \"<div style='\" + style + \"'>\" +\n",
    "    \"<table>\" +\n",
    "      body +\n",
    "    \"</table>\" +\n",
    "  \"</div>\"\n",
    "  );\n",
    "\n",
    "};\n",
    "\n",
    "// IJavaScript HTML processor receive parameter of defined HTML fragment\n",
    "$$.html(FUT._toHtml());"
   ]
  }
 ],
 "metadata": {
  "kernelspec": {
   "display_name": "JavaScript (Node.js)",
   "language": "javascript",
   "name": "javascript"
  },
  "language_info": {
   "file_extension": ".js",
   "mimetype": "application/javascript",
   "name": "javascript",
   "version": "6.11.2"
  },
  "orig_nbformat": 4,
  "vscode": {
   "interpreter": {
    "hash": "f9754268531114ef921a74141f53a8784542b287a81b4d941f45efc2c5c049ef"
   }
  }
 },
 "nbformat": 4,
 "nbformat_minor": 2
}
