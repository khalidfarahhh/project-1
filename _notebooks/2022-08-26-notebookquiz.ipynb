{
 "cells": [
  {
   "cell_type": "markdown",
   "metadata": {},
   "source": [
    "# FOOTBALL QUIZ \n",
    "\n",
    "- title: Football Quiz\n",
    "- toc: true\n",
    "- author: Khalid Farah\n",
    "- categories: [collegeboard]\n",
    "- tags: [python]"
   ]
  },
  {
   "cell_type": "code",
   "execution_count": 2,
   "metadata": {},
   "outputs": [
    {
     "name": "stdout",
     "output_type": "stream",
     "text": [
      "Question: How many players are their on defense?\n",
      "Answer: 11\n"
     ]
    }
   ],
   "source": [
    "def question_and_answer(prompt):\n",
    "    print(\"Question: \" + prompt)\n",
    "    msg = input(11)\n",
    "    print(\"Answer: \" + msg)\n",
    "\n",
    "question_and_answer(\"How many players are their on defense?\")"
   ]
  },
  {
   "cell_type": "code",
   "execution_count": 1,
   "metadata": {},
   "outputs": [
    {
     "name": "stdout",
     "output_type": "stream",
     "text": [
      "             Age\n",
      "count   8.000000\n",
      "mean   35.500000\n",
      "std    23.268618\n",
      "min    15.000000\n",
      "25%    25.500000\n",
      "50%    28.000000\n",
      "75%    33.750000\n",
      "max    90.000000\n",
      "A    3\n",
      "B    2\n",
      "D    1\n",
      "C    1\n",
      "F    1\n",
      "Name: Grade, dtype: int64\n",
      "Gender\n",
      "F    40.0\n",
      "M    31.0\n",
      "Name: Age, dtype: float64\n"
     ]
    }
   ],
   "source": [
    "import pandas as pd\n",
    "\n",
    "data = {\n",
    "    'Name': ['Dillon', 'Noor', 'Steven', 'Lucas', 'Harsha', 'Varalu', 'Ryan', 'Emaad'],\n",
    "    'Age': [24, 31, 42, 27, 29, 26, 90, 15],\n",
    "    'Gender': ['M', 'M', 'M', 'M', 'F', 'F', 'F', 'F'],\n",
    "    'Grade': ['A', 'B', 'A', 'D', 'C', 'F', 'B', 'A']\n",
    "}\n",
    "\n",
    "df = pd.DataFrame(data)\n",
    "\n",
    "# descriptive statistics of numeric columns\n",
    "print(df.describe())\n",
    "\n",
    "# counts of unique values in the 'Grade' column\n",
    "print(df['Grade'].value_counts())\n",
    "\n",
    "# mean age by gender\n",
    "print(df.groupby('Gender')['Age'].mean())\n"
   ]
  }
 ],
 "metadata": {
  "kernelspec": {
   "display_name": "Python 3.8.10 64-bit",
   "language": "python",
   "name": "python3"
  },
  "language_info": {
   "codemirror_mode": {
    "name": "ipython",
    "version": 3
   },
   "file_extension": ".py",
   "mimetype": "text/x-python",
   "name": "python",
   "nbconvert_exporter": "python",
   "pygments_lexer": "ipython3",
   "version": "3.9.12"
  },
  "orig_nbformat": 4,
  "vscode": {
   "interpreter": {
    "hash": "916dbcbb3f70747c44a77c7bcd40155683ae19c65e1c03b4aa3499c5328201f1"
   }
  }
 },
 "nbformat": 4,
 "nbformat_minor": 2
}
